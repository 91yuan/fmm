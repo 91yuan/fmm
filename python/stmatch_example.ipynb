{
 "cells": [
  {
   "cell_type": "markdown",
   "metadata": {},
   "source": [
    "## Demo of STMatch Python API"
   ]
  },
  {
   "cell_type": "code",
   "execution_count": 7,
   "metadata": {},
   "outputs": [],
   "source": [
    "from fmm import Network,NetworkGraph,STMATCH,STMATCHAlgorConfig"
   ]
  },
  {
   "cell_type": "code",
   "execution_count": 8,
   "metadata": {},
   "outputs": [
    {
     "name": "stdout",
     "output_type": "stream",
     "text": [
      "17\n"
     ]
    }
   ],
   "source": [
    "network = Network(\"../example/data/edges.shp\")\n",
    "graph = NetworkGraph(network)\n",
    "print graph.get_num_vertices()\n",
    "model = STMATCH(network,graph)"
   ]
  },
  {
   "cell_type": "code",
   "execution_count": 9,
   "metadata": {},
   "outputs": [],
   "source": [
    "wkt = \"LINESTRING(0.200812146892656 2.14088983050848,1.44262005649717 2.14879943502825,3.06408898305084 2.16066384180791,3.06408898305084 2.7103813559322,3.70872175141242 2.97930790960452,4.11606638418078 2.62337570621469)\""
   ]
  },
  {
   "cell_type": "code",
   "execution_count": 10,
   "metadata": {},
   "outputs": [],
   "source": [
    "config = STMATCHAlgorConfig()\n",
    "config.k = 4\n",
    "config.gps_error = 0.5\n",
    "config.radius = 0.4"
   ]
  },
  {
   "cell_type": "code",
   "execution_count": 11,
   "metadata": {},
   "outputs": [
    {
     "ename": "TypeError",
     "evalue": "match_wkt_test() takes exactly 4 arguments (3 given)",
     "output_type": "error",
     "traceback": [
      "\u001b[0;31m------------------------------------------------------\u001b[0m",
      "\u001b[0;31mTypeError\u001b[0m            Traceback (most recent call last)",
      "\u001b[0;32m<ipython-input-11-7bed9a72a82b>\u001b[0m in \u001b[0;36m<module>\u001b[0;34m()\u001b[0m\n\u001b[0;32m----> 1\u001b[0;31m \u001b[0mresult\u001b[0m \u001b[0;34m=\u001b[0m \u001b[0mmodel\u001b[0m\u001b[0;34m.\u001b[0m\u001b[0mmatch_wkt_test\u001b[0m\u001b[0;34m(\u001b[0m\u001b[0mwkt\u001b[0m\u001b[0;34m,\u001b[0m\u001b[0mconfig\u001b[0m\u001b[0;34m)\u001b[0m\u001b[0;34m\u001b[0m\u001b[0m\n\u001b[0m\u001b[1;32m      2\u001b[0m \u001b[0;32mprint\u001b[0m \u001b[0mtype\u001b[0m\u001b[0;34m(\u001b[0m\u001b[0mresult\u001b[0m\u001b[0;34m)\u001b[0m\u001b[0;34m\u001b[0m\u001b[0m\n",
      "\u001b[0;31mTypeError\u001b[0m: match_wkt_test() takes exactly 4 arguments (3 given)"
     ]
    }
   ],
   "source": [
    "result = model.match_wkt_test(wkt,config)\n",
    "print type(result)"
   ]
  },
  {
   "cell_type": "code",
   "execution_count": 30,
   "metadata": {},
   "outputs": [
    {
     "name": "stdout",
     "output_type": "stream",
     "text": [
      "<type 'SwigPyObject'>\n"
     ]
    }
   ],
   "source": [
    "print type(network.this)"
   ]
  },
  {
   "cell_type": "code",
   "execution_count": 76,
   "metadata": {},
   "outputs": [],
   "source": [
    "from ipyleaflet import *"
   ]
  },
  {
   "cell_type": "code",
   "execution_count": 90,
   "metadata": {},
   "outputs": [
    {
     "data": {
      "application/vnd.jupyter.widget-view+json": {
       "model_id": "b81a041ca1c342748e144f2879b83261",
       "version_major": 2,
       "version_minor": 0
      },
      "text/plain": [
       "TWFwKGNlbnRlcj1bNTkuMzM0NTkxLCAxOC4wNjMyNF0sIGNvbnRyb2xzPShab29tQ29udHJvbChvcHRpb25zPVt1J3Bvc2l0aW9uJywgdSd6b29tX2luX3RleHQnLCB1J3pvb21faW5fdGl0bGXigKY=\n"
      ]
     },
     "metadata": {},
     "output_type": "display_data"
    }
   ],
   "source": [
    "from shapely.wkt import dumps, loads\n",
    "from shapely.geometry import mapping\n",
    "route = mapping(loads(geom.export_wkt()))\n",
    "m = Map(center=(59.334591, 18.063240), zoom=10, basemap=basemaps.OpenStreetMap.Mapnik)\n",
    "original_geo_json = GeoJSON(data=route, style = {'color': 'red', 'opacity':0.5, 'weight':8})                \n",
    "m.add_layer(original_geo_json)\n",
    "m"
   ]
  },
  {
   "cell_type": "markdown",
   "metadata": {},
   "source": [
    "### Run map matching"
   ]
  },
  {
   "cell_type": "markdown",
   "metadata": {},
   "source": [
    "### Print the match result"
   ]
  },
  {
   "cell_type": "code",
   "execution_count": 4,
   "metadata": {},
   "outputs": [
    {
     "name": "stdout",
     "output_type": "stream",
     "text": [
      "Matched path geometry LINESTRING(0.200812146068 2,1 2,2 2,3 2,3 3,4 3,4 2.62337571383)\n",
      "Matched points geometry LINESTRING(0.200812146068 2,1.44262006879 2,3 2.16066384315,3 2.71038132906,3.70872175694 3,4 2.62337571383)\n",
      "Matched edge id [8, 11, 18, 18, 20, 24]\n",
      "Matched path edges [8, 11, 13, 18, 20, 24]\n"
     ]
    }
   ],
   "source": [
    "print \"Matched path geometry\",result.mgeom\n",
    "print \"Matched points geometry\",result.pgeom\n",
    "print \"Matched edge id\",list(result.opath)\n",
    "print \"Matched path edges\",list(result.cpath)"
   ]
  },
  {
   "cell_type": "markdown",
   "metadata": {},
   "source": [
    "### Verification of the matching result\n",
    "\n",
    "Check the candidates and transition lattice"
   ]
  },
  {
   "cell_type": "code",
   "execution_count": 5,
   "metadata": {},
   "outputs": [],
   "source": [
    "import pandas as pd\n",
    "def candidates2df(candidates):\n",
    "    return pd.DataFrame([(v.index,v.edge_id,v.source,v.target,v.distance,v.length,v.offset,v.ep) for v in candidates],\n",
    "                        columns=['index','edge_id','source','target','dist','length','offset','ep'])\n",
    "def lattice2df(lattice):\n",
    "    return pd.DataFrame([(v.index,v.from_edge,v.to_edge,v.eu_dist,v.sp_dist,v.tp,v.e_prob,v.cumu_prob) for v in lattice],\n",
    "                  columns=['index','f_edge','t_edge','eu_dist','sp_dist','tp','ep','cp'])"
   ]
  },
  {
   "cell_type": "code",
   "execution_count": 6,
   "metadata": {},
   "outputs": [
    {
     "name": "stdout",
     "output_type": "stream",
     "text": [
      "   index  edge_id  source  target      dist  length    offset        ep\n",
      "0      0        8       7       8  0.140890     1.0  0.200812  0.961078\n",
      "1      0        9       8       7  0.140890     1.0  0.799188  0.961078\n",
      "2      1       10       5       8  0.148799     1.0  0.557380  0.956684\n",
      "3      1       11       8       5  0.148799     1.0  0.442620  0.956684\n",
      "4      2       18       6      11  0.064089     1.0  0.160664  0.991819\n"
     ]
    }
   ],
   "source": [
    "candidates = model.search_candidate(wkt)\n",
    "df = candidates2df(candidates)\n",
    "print df.head()"
   ]
  },
  {
   "cell_type": "code",
   "execution_count": 9,
   "metadata": {},
   "outputs": [
    {
     "name": "stdout",
     "output_type": "stream",
     "text": [
      "   index  f_edge  t_edge   eu_dist   sp_dist        tp        ep        cp\n",
      "0      0       8      10  1.241833  2.356568  0.526967  0.956684  1.465218\n",
      "1      0       8      11  1.241833  1.241808  0.999980  0.956684  1.917742\n",
      "2      0       9      10  1.241833  2.758192  0.450234  0.956684  1.391810\n",
      "3      0       9      11  1.241833  1.643432  0.755634  0.956684  1.683980\n",
      "4      1      10      18  1.621512  2.603284  0.622872  0.991819  2.082994\n"
     ]
    }
   ],
   "source": [
    "lattice = model.build_transition_lattice(wkt)\n",
    "df = lattice2df(lattice)\n",
    "print df.head()"
   ]
  },
  {
   "cell_type": "markdown",
   "metadata": {},
   "source": [
    "### Visualize the result\n",
    "\n",
    "You need to have `pyshp` and `shapely` installed. You can install it with `pip`.\n",
    "\n",
    "```\n",
    "pip install pyshp shapely\n",
    "```"
   ]
  },
  {
   "cell_type": "code",
   "execution_count": 10,
   "metadata": {},
   "outputs": [
    {
     "data": {
      "image/png": "[encoded data removed]",
      "text/plain": [
       "<Figure size 720x720 with 1 Axes>"
      ]
     },
     "metadata": {},
     "output_type": "display_data"
    }
   ],
   "source": [
    "%matplotlib inline\n",
    "import shapefile as shp  # Requires the pyshp package\n",
    "import matplotlib.pyplot as plt\n",
    "from matplotlib import cm\n",
    "import matplotlib\n",
    "matplotlib.rcParams.update({'font.size': 12})\n",
    "matplotlib.rcParams['pdf.fonttype'] = 42\n",
    "matplotlib.rcParams['ps.fonttype'] = 42\n",
    "\n",
    "sf = shp.Reader(\"../example/data/edges.shp\")\n",
    "\n",
    "# Plot road network\n",
    "plt.figure(figsize=(10,10))\n",
    "for shape in sf.shapeRecords():\n",
    "    x = [i[0] for i in shape.shape.points[:]]\n",
    "    y = [i[1] for i in shape.shape.points[:]]\n",
    "    line, = plt.plot(x,y,c='k',lw=4)\n",
    "line.set_label(\"Road network\")\n",
    "\n",
    "# Plot the trajectory \n",
    "from shapely.wkt import dumps, loads\n",
    "gps_geom = loads(wkt)\n",
    "x,y = gps_geom.xy\n",
    "plt.plot(x,y,label=\"GPS trajectory\",linestyle='--', marker='o', color='b',markersize=10)\n",
    "\n",
    "# Plot the matched result\n",
    "matched_path_geom = loads(result.mgeom)\n",
    "matched_points_geom = loads(result.pgeom)\n",
    "x,y = matched_path_geom.xy\n",
    "plt.plot(x,y,c='g',label=\"Traversed path\",lw=6)\n",
    "\n",
    "x,y = matched_points_geom.xy\n",
    "plt.scatter(x,y,label=\"Matched points\", marker='X', c='m',s=150)\n",
    "plt.legend(loc='lower left',fontsize=20)\n",
    "plt.tight_layout()\n"
   ]
  },
  {
   "cell_type": "code",
   "execution_count": null,
   "metadata": {
    "collapsed": true
   },
   "outputs": [],
   "source": []
  },
  {
   "cell_type": "code",
   "execution_count": null,
   "metadata": {
    "collapsed": true
   },
   "outputs": [],
   "source": []
  }
 ],
 "metadata": {
  "kernelspec": {
   "display_name": "Python 2",
   "language": "python",
   "name": "python2"
  },
  "language_info": {
   "codemirror_mode": {
    "name": "ipython",
    "version": 2
   },
   "file_extension": ".py",
   "mimetype": "text/x-python",
   "name": "python",
   "nbconvert_exporter": "python",
   "pygments_lexer": "ipython2",
   "version": "2.7.15"
  }
 },
 "nbformat": 4,
 "nbformat_minor": 2
}
